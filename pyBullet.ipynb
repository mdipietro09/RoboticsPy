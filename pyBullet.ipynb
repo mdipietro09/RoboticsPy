{
 "cells": [
  {
   "cell_type": "markdown",
   "id": "f81a60b9-56a0-4917-832f-599e786b627a",
   "metadata": {},
   "source": [
    "# Robotics with Python: PyBullet"
   ]
  },
  {
   "cell_type": "markdown",
   "id": "a14a82d6-f2cd-40b1-8aa0-70a04446c7f6",
   "metadata": {},
   "source": [
    "### Basics"
   ]
  },
  {
   "cell_type": "code",
   "execution_count": 1,
   "id": "346b668a-3521-4a90-b39f-8e083d2cef47",
   "metadata": {},
   "outputs": [
    {
     "name": "stderr",
     "output_type": "stream",
     "text": [
      "pybullet build time: Sep  3 2024 12:57:17\n"
     ]
    }
   ],
   "source": [
    "import pybullet as p\n",
    "\n",
    "p.connect(p.GUI)\n",
    "\n",
    "p.disconnect()"
   ]
  },
  {
   "cell_type": "code",
   "execution_count": 1,
   "id": "bd8600f1-5d0d-479b-a9e1-55d7b23cc707",
   "metadata": {},
   "outputs": [
    {
     "name": "stderr",
     "output_type": "stream",
     "text": [
      "pybullet build time: Sep  3 2024 12:57:17\n"
     ]
    }
   ],
   "source": [
    "import pybullet as p\n",
    "import tempfile\n",
    "import time\n",
    "\n",
    "## setup\n",
    "p.connect(p.GUI)\n",
    "p.resetSimulation()\n",
    "p.setGravity(gravX=0, gravY=0, gravZ=-9.8)\n",
    "\n",
    "## data\n",
    "urdf_string = \"\"\"\"\n",
    "<robot name=\"cube_urdf\">\n",
    "\n",
    "  <link name=\"cube_link\">\n",
    "    <visual>\n",
    "      <geometry>\n",
    "        <box size=\"0.5 0.5 0.5\"/> <!-- 50 cm cube -->\n",
    "      </geometry>\n",
    "      <material name=\"blue\">\n",
    "        <color rgba=\"0 0 1 1\"/>\n",
    "      </material>\n",
    "    </visual>\n",
    "\n",
    "    <collision>\n",
    "      <geometry>\n",
    "        <box size=\"0.5 0.5 0.5\"/>\n",
    "      </geometry>\n",
    "    </collision>\n",
    "\n",
    "    <inertial>\n",
    "      <mass value=\"1.0\"/>\n",
    "      <inertia ixx=\"0.0001\" iyy=\"0.0001\" izz=\"0.0001\"\n",
    "               ixy=\"0.0\" ixz=\"0.0\" iyz=\"0.0\"/>\n",
    "    </inertial>\n",
    "  </link>\n",
    "</robot>\n",
    "\"\"\"\n",
    "\n",
    "## create a temporary URDF file in memory\n",
    "with tempfile.NamedTemporaryFile(suffix=\".urdf\", mode=\"w\", delete=False) as f:\n",
    "    f.write(urdf_string)\n",
    "    urdf_file = f.name\n",
    "\n",
    "## load URDF\n",
    "p.loadURDF(fileName=urdf_file, basePosition=[0,0,1])\n",
    "\n",
    "## render simulation\n",
    "for _ in range(240):\n",
    "    p.stepSimulation() #add a physics step (CPU speed = 0.1 seconds)\n",
    "    time.sleep(1/240)  #slow down to real-time (240 steps × 1/240 second sleep = 1 second)\n",
    "\n",
    "p.disconnect()"
   ]
  },
  {
   "cell_type": "code",
   "execution_count": null,
   "id": "5f5ab088-e67f-4ac4-899e-28f089f7b886",
   "metadata": {},
   "outputs": [
    {
     "name": "stderr",
     "output_type": "stream",
     "text": [
      "pybullet build time: Sep  3 2024 12:57:17\n"
     ]
    }
   ],
   "source": [
    "import pybullet as p\n",
    "import pybullet_data\n",
    "import time\n",
    "\n",
    "## setup\n",
    "p.connect(p.GUI)\n",
    "p.resetSimulation()\n",
    "p.setGravity(gravX=0, gravY=0, gravZ=-9.8)\n",
    "p.setAdditionalSearchPath(path=pybullet_data.getDataPath())\n",
    "\n",
    "## load URDF\n",
    "p.loadURDF(fileName=\"cube.urdf\", basePosition=[0,0,1])\n",
    "\n",
    "## render simulation\n",
    "for _ in range(240):\n",
    "    p.stepSimulation()\n",
    "    time.sleep(1/240)\n",
    "\n",
    "p.disconnect()"
   ]
  },
  {
   "cell_type": "markdown",
   "id": "44758b2d-9099-4a57-8ddb-ef6e16ea7658",
   "metadata": {},
   "source": [
    "### R2D2"
   ]
  },
  {
   "cell_type": "code",
   "execution_count": 1,
   "id": "7cf7aeac-c94f-478b-9d74-2437f821d94f",
   "metadata": {},
   "outputs": [
    {
     "name": "stderr",
     "output_type": "stream",
     "text": [
      "pybullet build time: Sep  3 2024 12:57:17\n"
     ]
    }
   ],
   "source": [
    "import pybullet as p\n",
    "import pybullet_data\n",
    "import time\n",
    "\n",
    "## setup\n",
    "p.connect(p.GUI)\n",
    "p.resetSimulation()\n",
    "p.setGravity(gravX=0, gravY=0, gravZ=-9.8)\n",
    "p.setAdditionalSearchPath(path=pybullet_data.getDataPath())\n",
    "\n",
    "## load URDF\n",
    "plane = p.loadURDF(\"plane.urdf\")\n",
    "robo = p.loadURDF(fileName=\"r2d2.urdf\", basePosition=[0,0,0.1])\n",
    "\n",
    "## render simulation\n",
    "for _ in range(240):\n",
    "    p.stepSimulation()\n",
    "    time.sleep(1/240)\n",
    "\n",
    "p.disconnect()"
   ]
  },
  {
   "cell_type": "code",
   "execution_count": 6,
   "id": "667b5e06-bea0-46a5-bc83-eb240285f5c2",
   "metadata": {},
   "outputs": [
    {
     "name": "stdout",
     "output_type": "stream",
     "text": [
      "--- JOINT 0 ---\n",
      "{'joint Index': 0, 'joint Name': b'base_to_right_leg', 'joint Type': 4, 'state vectorIndex': -1, 'velocity vectorIndex': -1, 'flags': 0, 'joint Damping': 0.0, 'joint Friction': 0.0, 'joint lowerLimit': 0.0, 'joint upperLimit': -1.0, 'joint maxForce': 0.0, 'joint maxVelocity': 0.0, 'link Name': b'right_leg', 'joint Axis': (0.0, 0.0, 0.0), 'parent FramePos': (0.22, 0.0, 0.25), 'parent FrameOrn': (0.0, -0.7070904020014416, 0.0, 0.7071231599922604), 'parent Index': -1}\n",
      "--- JOINT 1 ---\n",
      "{'joint Index': 1, 'joint Name': b'right_base_joint', 'joint Type': 4, 'state vectorIndex': -1, 'velocity vectorIndex': -1, 'flags': 0, 'joint Damping': 0.0, 'joint Friction': 0.0, 'joint lowerLimit': 0.0, 'joint upperLimit': -1.0, 'joint maxForce': 0.0, 'joint maxVelocity': 0.0, 'link Name': b'right_base', 'joint Axis': (0.0, 0.0, 0.0), 'parent FramePos': (0.2999999996780742, 0.0, -1.3898038463944216e-05), 'parent FrameOrn': (0.0, 0.7070904020014416, 0.0, 0.7071231599922604), 'parent Index': 0}\n",
      "--- JOINT 2 ---\n",
      "{'joint Index': 2, 'joint Name': b'right_front_wheel_joint', 'joint Type': 0, 'state vectorIndex': 7, 'velocity vectorIndex': 6, 'flags': 1, 'joint Damping': 0.0, 'joint Friction': 0.0, 'joint lowerLimit': 0.0, 'joint upperLimit': -1.0, 'joint maxForce': 100.0, 'joint maxVelocity': 100.0, 'link Name': b'right_front_wheel', 'joint Axis': (0.0, 0.0, 1.0), 'parent FramePos': (0.0, 0.133333333333, -0.085), 'parent FrameOrn': (0.0, -0.7070904020014416, 0.0, 0.7071231599922604), 'parent Index': 1}\n",
      "--- JOINT 3 ---\n",
      "{'joint Index': 3, 'joint Name': b'right_back_wheel_joint', 'joint Type': 0, 'state vectorIndex': 8, 'velocity vectorIndex': 7, 'flags': 1, 'joint Damping': 0.0, 'joint Friction': 0.0, 'joint lowerLimit': 0.0, 'joint upperLimit': -1.0, 'joint maxForce': 100.0, 'joint maxVelocity': 100.0, 'link Name': b'right_back_wheel', 'joint Axis': (0.0, 0.0, 1.0), 'parent FramePos': (0.0, -0.133333333333, -0.085), 'parent FrameOrn': (0.0, -0.7070904020014416, 0.0, 0.7071231599922604), 'parent Index': 1}\n",
      "--- JOINT 4 ---\n",
      "{'joint Index': 4, 'joint Name': b'base_to_left_leg', 'joint Type': 4, 'state vectorIndex': -1, 'velocity vectorIndex': -1, 'flags': 0, 'joint Damping': 0.0, 'joint Friction': 0.0, 'joint lowerLimit': 0.0, 'joint upperLimit': -1.0, 'joint maxForce': 0.0, 'joint maxVelocity': 0.0, 'link Name': b'left_leg', 'joint Axis': (0.0, 0.0, 0.0), 'parent FramePos': (-0.22, 0.0, 0.25), 'parent FrameOrn': (0.0, -0.7070904020014416, 0.0, 0.7071231599922604), 'parent Index': -1}\n",
      "--- JOINT 5 ---\n",
      "{'joint Index': 5, 'joint Name': b'left_base_joint', 'joint Type': 4, 'state vectorIndex': -1, 'velocity vectorIndex': -1, 'flags': 0, 'joint Damping': 0.0, 'joint Friction': 0.0, 'joint lowerLimit': 0.0, 'joint upperLimit': -1.0, 'joint maxForce': 0.0, 'joint maxVelocity': 0.0, 'link Name': b'left_base', 'joint Axis': (0.0, 0.0, 0.0), 'parent FramePos': (0.2999999996780742, 0.0, -1.3898038463944216e-05), 'parent FrameOrn': (0.0, 0.7070904020014416, 0.0, 0.7071231599922604), 'parent Index': 4}\n",
      "--- JOINT 6 ---\n",
      "{'joint Index': 6, 'joint Name': b'left_front_wheel_joint', 'joint Type': 0, 'state vectorIndex': 9, 'velocity vectorIndex': 8, 'flags': 1, 'joint Damping': 0.0, 'joint Friction': 0.0, 'joint lowerLimit': 0.0, 'joint upperLimit': -1.0, 'joint maxForce': 100.0, 'joint maxVelocity': 100.0, 'link Name': b'left_front_wheel', 'joint Axis': (0.0, 0.0, 1.0), 'parent FramePos': (0.0, 0.133333333333, -0.085), 'parent FrameOrn': (0.0, -0.7070904020014416, 0.0, 0.7071231599922604), 'parent Index': 5}\n",
      "--- JOINT 7 ---\n",
      "{'joint Index': 7, 'joint Name': b'left_back_wheel_joint', 'joint Type': 0, 'state vectorIndex': 10, 'velocity vectorIndex': 9, 'flags': 1, 'joint Damping': 0.0, 'joint Friction': 0.0, 'joint lowerLimit': 0.0, 'joint upperLimit': -1.0, 'joint maxForce': 100.0, 'joint maxVelocity': 100.0, 'link Name': b'left_back_wheel', 'joint Axis': (0.0, 0.0, 1.0), 'parent FramePos': (0.0, -0.133333333333, -0.085), 'parent FrameOrn': (0.0, -0.7070904020014416, 0.0, 0.7071231599922604), 'parent Index': 5}\n",
      "--- JOINT 8 ---\n",
      "{'joint Index': 8, 'joint Name': b'gripper_extension', 'joint Type': 1, 'state vectorIndex': 11, 'velocity vectorIndex': 10, 'flags': 1, 'joint Damping': 0.0, 'joint Friction': 0.0, 'joint lowerLimit': -0.38, 'joint upperLimit': 0.0, 'joint maxForce': 1000.0, 'joint maxVelocity': 0.5, 'link Name': b'gripper_pole', 'joint Axis': (1.0, 0.0, 0.0), 'parent FramePos': (0.0, 0.19, 0.2), 'parent FrameOrn': (0.0, 0.0, -0.7070904020014416, 0.7071231599922604), 'parent Index': -1}\n",
      "--- JOINT 9 ---\n",
      "{'joint Index': 9, 'joint Name': b'left_gripper_joint', 'joint Type': 0, 'state vectorIndex': 12, 'velocity vectorIndex': 11, 'flags': 1, 'joint Damping': 0.0, 'joint Friction': 0.0, 'joint lowerLimit': 0.0, 'joint upperLimit': 0.548, 'joint maxForce': 1000.0, 'joint maxVelocity': 0.5, 'link Name': b'left_gripper', 'joint Axis': (0.0, 0.0, 1.0), 'parent FramePos': (0.2, 0.02, 0.0), 'parent FrameOrn': (0.0, 0.0, 0.0, 1.0), 'parent Index': 8}\n",
      "--- JOINT 10 ---\n",
      "{'joint Index': 10, 'joint Name': b'left_tip_joint', 'joint Type': 4, 'state vectorIndex': -1, 'velocity vectorIndex': -1, 'flags': 0, 'joint Damping': 0.0, 'joint Friction': 0.0, 'joint lowerLimit': 0.0, 'joint upperLimit': -1.0, 'joint maxForce': 0.0, 'joint maxVelocity': 0.0, 'link Name': b'left_tip', 'joint Axis': (0.0, 0.0, 0.0), 'parent FramePos': (0.0, 0.0, 0.0), 'parent FrameOrn': (0.0, 0.0, 0.0, 1.0), 'parent Index': 9}\n",
      "--- JOINT 11 ---\n",
      "{'joint Index': 11, 'joint Name': b'right_gripper_joint', 'joint Type': 0, 'state vectorIndex': 13, 'velocity vectorIndex': 12, 'flags': 1, 'joint Damping': 0.0, 'joint Friction': 0.0, 'joint lowerLimit': 0.0, 'joint upperLimit': 0.548, 'joint maxForce': 1000.0, 'joint maxVelocity': 0.5, 'link Name': b'right_gripper', 'joint Axis': (0.0, 0.0, -1.0), 'parent FramePos': (0.2, -0.02, 0.0), 'parent FrameOrn': (0.0, 0.0, 0.0, 1.0), 'parent Index': 8}\n",
      "--- JOINT 12 ---\n",
      "{'joint Index': 12, 'joint Name': b'right_tip_joint', 'joint Type': 4, 'state vectorIndex': -1, 'velocity vectorIndex': -1, 'flags': 0, 'joint Damping': 0.0, 'joint Friction': 0.0, 'joint lowerLimit': 0.0, 'joint upperLimit': -1.0, 'joint maxForce': 0.0, 'joint maxVelocity': 0.0, 'link Name': b'right_tip', 'joint Axis': (0.0, 0.0, 0.0), 'parent FramePos': (0.0, 0.0, 0.0), 'parent FrameOrn': (0.0, 0.0, 0.0, 1.0), 'parent Index': 11}\n",
      "--- JOINT 13 ---\n",
      "{'joint Index': 13, 'joint Name': b'head_swivel', 'joint Type': 0, 'state vectorIndex': 14, 'velocity vectorIndex': 13, 'flags': 1, 'joint Damping': 0.0, 'joint Friction': 0.0, 'joint lowerLimit': -0.38, 'joint upperLimit': 0.0, 'joint maxForce': 1000.0, 'joint maxVelocity': 0.5, 'link Name': b'head', 'joint Axis': (0.0, 0.0, 1.0), 'parent FramePos': (0.0, 0.0, 0.3), 'parent FrameOrn': (0.0, 0.0, 0.0, 1.0), 'parent Index': -1}\n",
      "--- JOINT 14 ---\n",
      "{'joint Index': 14, 'joint Name': b'tobox', 'joint Type': 4, 'state vectorIndex': -1, 'velocity vectorIndex': -1, 'flags': 0, 'joint Damping': 0.0, 'joint Friction': 0.0, 'joint lowerLimit': 0.0, 'joint upperLimit': -1.0, 'joint maxForce': 0.0, 'joint maxVelocity': 0.0, 'link Name': b'box', 'joint Axis': (0.0, 0.0, 0.0), 'parent FramePos': (0.0, 0.1214, 0.1214), 'parent FrameOrn': (0.0, 0.0, 0.0, 1.0), 'parent Index': 13}\n"
     ]
    }
   ],
   "source": [
    "import pybullet as p\n",
    "import pybullet_data\n",
    "\n",
    "## setup\n",
    "p.connect(p.DIRECT)\n",
    "p.resetSimulation()\n",
    "p.setGravity(gravX=0, gravY=0, gravZ=-9.8)\n",
    "p.setAdditionalSearchPath(path=pybullet_data.getDataPath())\n",
    "\n",
    "## load URDF\n",
    "robo = p.loadURDF(fileName=\"r2d2.urdf\", basePosition=[0,0,0.1])\n",
    "\n",
    "## joints\n",
    "dic_info = {\n",
    "    0:\"joint Index\",  #starts at 0\n",
    "    1:\"joint Name\",\n",
    "    2:\"joint Type\",  #0=revolute (rotational), 1=prismatic (sliding), 4=fixed\n",
    "    3:\"state vectorIndex\",\n",
    "    4:\"velocity vectorIndex\",\n",
    "    5:\"flags\",  #nvm always 0\n",
    "    6:\"joint Damping\",  \n",
    "    7:\"joint Friction\",  #coefficient\n",
    "    8:\"joint lowerLimit\",  #min angle\n",
    "    9:\"joint upperLimit\",  #max angle\n",
    "    10:\"joint maxForce\",  #max force allowed\n",
    "    11:\"joint maxVelocity\",  #max speed\n",
    "    12:\"link Name\",  #child link connected to this joint\n",
    "    13:\"joint Axis\",\n",
    "    14:\"parent FramePos\",  #position\n",
    "    15:\"parent FrameOrn\",  #orientation\n",
    "    16:\"parent Index\"  #−1 = base\n",
    "}\n",
    "for i in range(p.getNumJoints(bodyUniqueId=robo)):\n",
    "    print(f\"--- JOINT {i} ---\")\n",
    "    joint_info = p.getJointInfo(bodyUniqueId=robo, jointIndex=i)\n",
    "    print({dic_info[k]:joint_info[k] for k in dic_info.keys()})"
   ]
  },
  {
   "cell_type": "code",
   "execution_count": 9,
   "id": "1de2fca1-81ff-4d03-93fb-6ec69c9655c3",
   "metadata": {},
   "outputs": [
    {
     "name": "stdout",
     "output_type": "stream",
     "text": [
      "--- LINK 0: right_leg ---\n",
      "{'Mass': 10.0, 'Friction': 0.5, 'Position': (0.22, 0.0, 0.05), 'Orientation': (-0.0, 0.7070904020014415, -0.0, 0.7071231599922604)}\n",
      "--- LINK 1: right_base ---\n",
      "{'Mass': 10.0, 'Friction': 0.5, 'Position': (0.21999999999999995, 0.0, -0.25000000000000017), 'Orientation': (0.0, 0.0, 0.0, 1.0)}\n",
      "--- LINK 2: right_front_wheel ---\n",
      "{'Mass': 1.0, 'Friction': 0.5, 'Position': (0.21999999999999995, 0.13333333333300007, -0.3350000000000002), 'Orientation': (-0.0, 0.7070904020014415, -0.0, 0.7071231599922604)}\n",
      "--- LINK 3: right_back_wheel ---\n",
      "{'Mass': 1.0, 'Friction': 0.5, 'Position': (0.21999999999999995, -0.13333333333300007, -0.3350000000000002), 'Orientation': (-0.0, 0.7070904020014415, -0.0, 0.7071231599922604)}\n",
      "--- LINK 4: left_leg ---\n",
      "{'Mass': 10.0, 'Friction': 0.5, 'Position': (-0.22000000000000008, 0.0, 0.05000000000000003), 'Orientation': (-0.0, 0.7070904020014415, -0.0, 0.7071231599922604)}\n",
      "--- LINK 5: left_base ---\n",
      "{'Mass': 10.0, 'Friction': 0.5, 'Position': (-0.22000000000000014, 0.0, -0.2500000000000001), 'Orientation': (0.0, 0.0, 0.0, 1.0)}\n",
      "--- LINK 6: left_front_wheel ---\n",
      "{'Mass': 1.0, 'Friction': 0.5, 'Position': (-0.22000000000000014, 0.13333333333300007, -0.3350000000000002), 'Orientation': (-0.0, 0.7070904020014415, -0.0, 0.7071231599922604)}\n",
      "--- LINK 7: left_back_wheel ---\n",
      "{'Mass': 1.0, 'Friction': 0.5, 'Position': (-0.22000000000000014, -0.13333333333300007, -0.3350000000000002), 'Orientation': (-0.0, 0.7070904020014415, -0.0, 0.7071231599922604)}\n",
      "--- LINK 8: gripper_pole ---\n",
      "{'Mass': 0.05, 'Friction': 0.5, 'Position': (-2.7755575615628914e-17, 0.19000000000000006, 0.30000000000000004), 'Orientation': (-0.0, -0.0, 0.7070904020014415, 0.7071231599922604)}\n",
      "--- LINK 9: left_gripper ---\n",
      "{'Mass': 0.05, 'Friction': 0.5, 'Position': (-0.019990734619562384, 0.3900009263212805, 0.30000000000000004), 'Orientation': (-0.0, -0.0, 0.7070904020014415, 0.7071231599922604)}\n",
      "--- LINK 10: left_tip ---\n",
      "{'Mass': 0.05, 'Friction': 0.5, 'Position': (-0.019990734619562384, 0.3900009263212805, 0.30000000000000004), 'Orientation': (-0.0, -0.0, 0.7070904020014415, 0.7071231599922604)}\n",
      "--- LINK 11: right_gripper ---\n",
      "{'Mass': 0.05, 'Friction': 0.5, 'Position': (0.02000926533751418, 0.3899990732494853, 0.30000000000000004), 'Orientation': (-0.0, -0.0, 0.7070904020014415, 0.7071231599922604)}\n",
      "--- LINK 12: right_tip ---\n",
      "{'Mass': 0.05, 'Friction': 0.5, 'Position': (0.02000926533751418, 0.3899990732494853, 0.30000000000000004), 'Orientation': (-0.0, -0.0, 0.7070904020014415, 0.7071231599922604)}\n",
      "--- LINK 13: head ---\n",
      "{'Mass': 10.0, 'Friction': 0.5, 'Position': (0.0, 0.0, 0.4), 'Orientation': (0.0, 0.0, 0.0, 1.0)}\n",
      "--- LINK 14: box ---\n",
      "{'Mass': 1.0, 'Friction': 0.5, 'Position': (0.0, 0.1214, 0.5214), 'Orientation': (0.0, 0.0, 0.0, 1.0)}\n"
     ]
    }
   ],
   "source": [
    "import pybullet as p\n",
    "import pybullet_data\n",
    "\n",
    "## setup\n",
    "p.connect(p.DIRECT)\n",
    "p.resetSimulation()\n",
    "p.setGravity(gravX=0, gravY=0, gravZ=-9.8)\n",
    "p.setAdditionalSearchPath(path=pybullet_data.getDataPath())\n",
    "\n",
    "## load URDF\n",
    "robo = p.loadURDF(fileName=\"r2d2.urdf\", basePosition=[0,0,0.1])\n",
    "\n",
    "## links\n",
    "for i in range(p.getNumJoints(robo)):\n",
    "    link_name = p.getJointInfo(robo, i)[12].decode('utf-8')  #field 12=\"link Name\"\n",
    "    dyn = p.getDynamicsInfo(robo, i)\n",
    "    pos, orn, *_ = p.getLinkState(robo, i)\n",
    "    dic_info = {\"Mass\":dyn[0], \"Friction\":dyn[1], \"Position\":pos, \"Orientation\":orn}\n",
    "    print(f\"--- LINK {i}: {link_name} ---\")\n",
    "    print(dic_info)"
   ]
  },
  {
   "cell_type": "code",
   "execution_count": 1,
   "id": "db72ff94-8053-478f-9ffe-4fe0aa6a7572",
   "metadata": {},
   "outputs": [
    {
     "name": "stderr",
     "output_type": "stream",
     "text": [
      "pybullet build time: Sep  3 2024 12:57:17\n"
     ]
    }
   ],
   "source": [
    "import pybullet as p\n",
    "import pybullet_data\n",
    "import time\n",
    "\n",
    "## setup\n",
    "p.connect(p.GUI)\n",
    "p.resetSimulation()\n",
    "p.setGravity(gravX=0, gravY=0, gravZ=-9.8)\n",
    "p.setAdditionalSearchPath(path=pybullet_data.getDataPath())\n",
    "\n",
    "## load URDF\n",
    "plane = p.loadURDF(\"plane.urdf\")\n",
    "robo = p.loadURDF(fileName=\"r2d2.urdf\", basePosition=[0,0,0.1])\n",
    "\n",
    "## settle down\n",
    "for _ in range(240):\n",
    "    p.stepSimulation()\n",
    "\n",
    "right_wheels = [2,3]\n",
    "left_wheels = [6,7]\n",
    "\n",
    "### first turn\n",
    "for _ in range(240):\n",
    "    for j in right_wheels:\n",
    "        p.setJointMotorControl2(bodyUniqueId=robo, jointIndex=j,\n",
    "                                controlMode=p.VELOCITY_CONTROL, \n",
    "                                targetVelocity=-100, force=50)\n",
    "    for j in left_wheels:\n",
    "        p.setJointMotorControl2(bodyUniqueId=robo, jointIndex=j,\n",
    "                                controlMode=p.VELOCITY_CONTROL, \n",
    "                                targetVelocity=100, force=50)\n",
    "    p.stepSimulation()\n",
    "    time.sleep(1/240)\n",
    "\n",
    "### then move forward\n",
    "for _ in range(500):   \n",
    "    for j in right_wheels + left_wheels:\n",
    "        p.setJointMotorControl2(bodyUniqueId=robo, jointIndex=j,\n",
    "                                controlMode=p.VELOCITY_CONTROL, \n",
    "                                targetVelocity=-100, force=10)\n",
    "    p.stepSimulation()\n",
    "    time.sleep(1/240)\n",
    "\n",
    "p.disconnect()"
   ]
  },
  {
   "cell_type": "code",
   "execution_count": null,
   "id": "6340c902-a330-4fc2-9b1d-e5412f9bfa47",
   "metadata": {},
   "outputs": [],
   "source": []
  }
 ],
 "metadata": {
  "kernelspec": {
   "display_name": "Python 3 (ipykernel)",
   "language": "python",
   "name": "python3"
  },
  "language_info": {
   "codemirror_mode": {
    "name": "ipython",
    "version": 3
   },
   "file_extension": ".py",
   "mimetype": "text/x-python",
   "name": "python",
   "nbconvert_exporter": "python",
   "pygments_lexer": "ipython3",
   "version": "3.13.0"
  }
 },
 "nbformat": 4,
 "nbformat_minor": 5
}
