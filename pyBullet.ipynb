{
 "cells": [
  {
   "cell_type": "markdown",
   "id": "f81a60b9-56a0-4917-832f-599e786b627a",
   "metadata": {},
   "source": [
    "# Robotics with Python: PyBullet"
   ]
  },
  {
   "cell_type": "markdown",
   "id": "a14a82d6-f2cd-40b1-8aa0-70a04446c7f6",
   "metadata": {},
   "source": [
    "### Basics"
   ]
  },
  {
   "cell_type": "code",
   "execution_count": 1,
   "id": "346b668a-3521-4a90-b39f-8e083d2cef47",
   "metadata": {},
   "outputs": [
    {
     "name": "stderr",
     "output_type": "stream",
     "text": [
      "pybullet build time: Sep  3 2024 12:57:17\n"
     ]
    }
   ],
   "source": [
    "import pybullet as p\n",
    "\n",
    "p.connect(p.GUI)\n",
    "\n",
    "p.disconnect()"
   ]
  },
  {
   "cell_type": "code",
   "execution_count": 1,
   "id": "bd8600f1-5d0d-479b-a9e1-55d7b23cc707",
   "metadata": {},
   "outputs": [
    {
     "name": "stderr",
     "output_type": "stream",
     "text": [
      "pybullet build time: Sep  3 2024 12:57:17\n"
     ]
    }
   ],
   "source": [
    "import pybullet as p\n",
    "import tempfile\n",
    "import time\n",
    "\n",
    "## setup\n",
    "p.connect(p.GUI)\n",
    "p.resetSimulation()\n",
    "p.setGravity(gravX=0, gravY=0, gravZ=-9.8)\n",
    "\n",
    "## data\n",
    "urdf_string = \"\"\"\"\n",
    "<robot name=\"cube_urdf\">\n",
    "\n",
    "  <link name=\"cube_link\">\n",
    "    <visual>\n",
    "      <geometry>\n",
    "        <box size=\"0.5 0.5 0.5\"/> <!-- 50 cm cube -->\n",
    "      </geometry>\n",
    "      <material name=\"blue\">\n",
    "        <color rgba=\"0 0 1 1\"/>\n",
    "      </material>\n",
    "    </visual>\n",
    "\n",
    "    <collision>\n",
    "      <geometry>\n",
    "        <box size=\"0.5 0.5 0.5\"/>\n",
    "      </geometry>\n",
    "    </collision>\n",
    "\n",
    "    <inertial>\n",
    "      <mass value=\"1.0\"/>\n",
    "      <inertia ixx=\"0.0001\" iyy=\"0.0001\" izz=\"0.0001\"\n",
    "               ixy=\"0.0\" ixz=\"0.0\" iyz=\"0.0\"/>\n",
    "    </inertial>\n",
    "  </link>\n",
    "</robot>\n",
    "\"\"\"\n",
    "\n",
    "## create a temporary URDF file in memory\n",
    "with tempfile.NamedTemporaryFile(suffix=\".urdf\", mode=\"w\", delete=False) as f:\n",
    "    f.write(urdf_string)\n",
    "    urdf_file = f.name\n",
    "\n",
    "## load URDF\n",
    "p.loadURDF(fileName=urdf_file, basePosition=[0,0,1])\n",
    "\n",
    "## render simulation\n",
    "for _ in range(240):\n",
    "    p.stepSimulation() #add a physics step (CPU speed = 0.1 seconds)\n",
    "    time.sleep(1/240)  #slow down to real-time (240 steps × 1/240 second sleep = 1 second)\n",
    "\n",
    "p.disconnect()"
   ]
  },
  {
   "cell_type": "code",
   "execution_count": null,
   "id": "5f5ab088-e67f-4ac4-899e-28f089f7b886",
   "metadata": {},
   "outputs": [
    {
     "name": "stderr",
     "output_type": "stream",
     "text": [
      "pybullet build time: Sep  3 2024 12:57:17\n"
     ]
    }
   ],
   "source": [
    "import pybullet as p\n",
    "import pybullet_data\n",
    "import time\n",
    "\n",
    "## setup\n",
    "p.connect(p.GUI)\n",
    "p.resetSimulation()\n",
    "p.setGravity(gravX=0, gravY=0, gravZ=-9.8)\n",
    "p.setAdditionalSearchPath(path=pybullet_data.getDataPath())\n",
    "\n",
    "## load URDF\n",
    "p.loadURDF(fileName=\"cube.urdf\", basePosition=[0,0,1])\n",
    "\n",
    "## render simulation\n",
    "for _ in range(240):\n",
    "    p.stepSimulation()\n",
    "    time.sleep(1/240)\n",
    "\n",
    "p.disconnect()"
   ]
  },
  {
   "cell_type": "markdown",
   "id": "44758b2d-9099-4a57-8ddb-ef6e16ea7658",
   "metadata": {},
   "source": [
    "### R2D2"
   ]
  },
  {
   "cell_type": "code",
   "execution_count": 2,
   "id": "7cf7aeac-c94f-478b-9d74-2437f821d94f",
   "metadata": {},
   "outputs": [],
   "source": [
    "import pybullet as p\n",
    "import pybullet_data\n",
    "import time\n",
    "\n",
    "## setup\n",
    "p.connect(p.GUI)\n",
    "p.resetSimulation()\n",
    "p.setGravity(gravX=0, gravY=0, gravZ=-9.8)\n",
    "p.setAdditionalSearchPath(path=pybullet_data.getDataPath())\n",
    "\n",
    "## load URDF\n",
    "plane = p.loadURDF(\"plane.urdf\")\n",
    "robo = p.loadURDF(fileName=\"r2d2.urdf\", basePosition=[0,0,0.1])\n",
    "\n",
    "## render simulation\n",
    "for _ in range(240):\n",
    "    p.stepSimulation()\n",
    "    time.sleep(1/240)\n",
    "\n",
    "p.disconnect()"
   ]
  },
  {
   "cell_type": "code",
   "execution_count": 10,
   "id": "667b5e06-bea0-46a5-bc83-eb240285f5c2",
   "metadata": {},
   "outputs": [
    {
     "name": "stdout",
     "output_type": "stream",
     "text": [
      "--- JOINT 0 ---\n",
      "{'Joint Index': 0, 'Joint Name': b'base_to_right_leg', 'Joint Type': 4, 'Parent link index': -1, 'Joint lower limit': 0.0, 'Joint upper limit': -1.0, 'Max force': 0.0, 'Max velocity': 0.0}\n",
      "--- JOINT 1 ---\n",
      "{'Joint Index': 1, 'Joint Name': b'right_base_joint', 'Joint Type': 4, 'Parent link index': -1, 'Joint lower limit': 0.0, 'Joint upper limit': -1.0, 'Max force': 0.0, 'Max velocity': 0.0}\n",
      "--- JOINT 2 ---\n",
      "{'Joint Index': 2, 'Joint Name': b'right_front_wheel_joint', 'Joint Type': 0, 'Parent link index': 7, 'Joint lower limit': 0.0, 'Joint upper limit': -1.0, 'Max force': 100.0, 'Max velocity': 100.0}\n",
      "--- JOINT 3 ---\n",
      "{'Joint Index': 3, 'Joint Name': b'right_back_wheel_joint', 'Joint Type': 0, 'Parent link index': 8, 'Joint lower limit': 0.0, 'Joint upper limit': -1.0, 'Max force': 100.0, 'Max velocity': 100.0}\n",
      "--- JOINT 4 ---\n",
      "{'Joint Index': 4, 'Joint Name': b'base_to_left_leg', 'Joint Type': 4, 'Parent link index': -1, 'Joint lower limit': 0.0, 'Joint upper limit': -1.0, 'Max force': 0.0, 'Max velocity': 0.0}\n",
      "--- JOINT 5 ---\n",
      "{'Joint Index': 5, 'Joint Name': b'left_base_joint', 'Joint Type': 4, 'Parent link index': -1, 'Joint lower limit': 0.0, 'Joint upper limit': -1.0, 'Max force': 0.0, 'Max velocity': 0.0}\n",
      "--- JOINT 6 ---\n",
      "{'Joint Index': 6, 'Joint Name': b'left_front_wheel_joint', 'Joint Type': 0, 'Parent link index': 9, 'Joint lower limit': 0.0, 'Joint upper limit': -1.0, 'Max force': 100.0, 'Max velocity': 100.0}\n",
      "--- JOINT 7 ---\n",
      "{'Joint Index': 7, 'Joint Name': b'left_back_wheel_joint', 'Joint Type': 0, 'Parent link index': 10, 'Joint lower limit': 0.0, 'Joint upper limit': -1.0, 'Max force': 100.0, 'Max velocity': 100.0}\n",
      "--- JOINT 8 ---\n",
      "{'Joint Index': 8, 'Joint Name': b'gripper_extension', 'Joint Type': 1, 'Parent link index': 11, 'Joint lower limit': -0.38, 'Joint upper limit': 0.0, 'Max force': 1000.0, 'Max velocity': 0.5}\n",
      "--- JOINT 9 ---\n",
      "{'Joint Index': 9, 'Joint Name': b'left_gripper_joint', 'Joint Type': 0, 'Parent link index': 12, 'Joint lower limit': 0.0, 'Joint upper limit': 0.548, 'Max force': 1000.0, 'Max velocity': 0.5}\n",
      "--- JOINT 10 ---\n",
      "{'Joint Index': 10, 'Joint Name': b'left_tip_joint', 'Joint Type': 4, 'Parent link index': -1, 'Joint lower limit': 0.0, 'Joint upper limit': -1.0, 'Max force': 0.0, 'Max velocity': 0.0}\n",
      "--- JOINT 11 ---\n",
      "{'Joint Index': 11, 'Joint Name': b'right_gripper_joint', 'Joint Type': 0, 'Parent link index': 13, 'Joint lower limit': 0.0, 'Joint upper limit': 0.548, 'Max force': 1000.0, 'Max velocity': 0.5}\n",
      "--- JOINT 12 ---\n",
      "{'Joint Index': 12, 'Joint Name': b'right_tip_joint', 'Joint Type': 4, 'Parent link index': -1, 'Joint lower limit': 0.0, 'Joint upper limit': -1.0, 'Max force': 0.0, 'Max velocity': 0.0}\n",
      "--- JOINT 13 ---\n",
      "{'Joint Index': 13, 'Joint Name': b'head_swivel', 'Joint Type': 0, 'Parent link index': 14, 'Joint lower limit': -0.38, 'Joint upper limit': 0.0, 'Max force': 1000.0, 'Max velocity': 0.5}\n",
      "--- JOINT 14 ---\n",
      "{'Joint Index': 14, 'Joint Name': b'tobox', 'Joint Type': 4, 'Parent link index': -1, 'Joint lower limit': 0.0, 'Joint upper limit': -1.0, 'Max force': 0.0, 'Max velocity': 0.0}\n"
     ]
    }
   ],
   "source": [
    "import pybullet as p\n",
    "import pybullet_data\n",
    "\n",
    "## setup\n",
    "p.connect(p.DIRECT)\n",
    "p.resetSimulation()\n",
    "p.setGravity(gravX=0, gravY=0, gravZ=-9.8)\n",
    "p.setAdditionalSearchPath(path=pybullet_data.getDataPath())\n",
    "\n",
    "## load URDF\n",
    "robo = p.loadURDF(fileName=\"r2d2.urdf\", basePosition=[0,0,0.1])\n",
    "\n",
    "## get info\n",
    "dic_info = {\n",
    " 0:\"Joint Index\",\n",
    " 1:\"Joint Name\",\n",
    " 2:\"Joint Type\", #0=revolute (rotational), 1=prismatic (sliding), 4=fixed\n",
    " 3:\"Parent link index\",\n",
    " 8:\"Joint lower limit\",\n",
    " 9:\"Joint upper limit\",\n",
    " 10:\"Max force\",\n",
    " 11:\"Max velocity\"\n",
    "}\n",
    "for i in range(p.getNumJoints(bodyUniqueId=robo)):\n",
    "    print(f\"--- JOINT {i} ---\")\n",
    "    joint_info = p.getJointInfo(bodyUniqueId=robo, jointIndex=i)\n",
    "    print({dic_info[k]:joint_info[k] for k in dic_info.keys()})"
   ]
  },
  {
   "cell_type": "code",
   "execution_count": null,
   "id": "e7e5a4da-00d3-49c4-b167-dde7c0c297f6",
   "metadata": {},
   "outputs": [],
   "source": []
  }
 ],
 "metadata": {
  "kernelspec": {
   "display_name": "Python 3 (ipykernel)",
   "language": "python",
   "name": "python3"
  },
  "language_info": {
   "codemirror_mode": {
    "name": "ipython",
    "version": 3
   },
   "file_extension": ".py",
   "mimetype": "text/x-python",
   "name": "python",
   "nbconvert_exporter": "python",
   "pygments_lexer": "ipython3",
   "version": "3.13.0"
  }
 },
 "nbformat": 4,
 "nbformat_minor": 5
}
