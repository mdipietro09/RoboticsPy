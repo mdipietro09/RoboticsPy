{
 "cells": [
  {
   "cell_type": "markdown",
   "id": "f81a60b9-56a0-4917-832f-599e786b627a",
   "metadata": {
    "id": "f81a60b9-56a0-4917-832f-599e786b627a"
   },
   "source": [
    "# Robotics with Python: PyBullet"
   ]
  },
  {
   "cell_type": "markdown",
   "id": "a14a82d6-f2cd-40b1-8aa0-70a04446c7f6",
   "metadata": {
    "id": "a14a82d6-f2cd-40b1-8aa0-70a04446c7f6",
    "jp-MarkdownHeadingCollapsed": true
   },
   "source": [
    "### Cube"
   ]
  },
  {
   "cell_type": "code",
   "execution_count": null,
   "id": "346b668a-3521-4a90-b39f-8e083d2cef47",
   "metadata": {
    "id": "346b668a-3521-4a90-b39f-8e083d2cef47",
    "outputId": "a8fc0ac5-132a-466b-d63a-081d8bdb4043"
   },
   "outputs": [
    {
     "name": "stderr",
     "output_type": "stream",
     "text": [
      "pybullet build time: Sep  3 2024 12:57:17\n"
     ]
    }
   ],
   "source": [
    "import pybullet as p\n",
    "\n",
    "p.connect(p.GUI)\n",
    "\n",
    "p.disconnect()"
   ]
  },
  {
   "cell_type": "code",
   "execution_count": null,
   "id": "bd8600f1-5d0d-479b-a9e1-55d7b23cc707",
   "metadata": {
    "id": "bd8600f1-5d0d-479b-a9e1-55d7b23cc707",
    "outputId": "e4801b68-51ec-4ccb-82d5-6112af1f5d10"
   },
   "outputs": [
    {
     "name": "stderr",
     "output_type": "stream",
     "text": [
      "pybullet build time: Sep  3 2024 12:57:17\n"
     ]
    }
   ],
   "source": [
    "import pybullet as p\n",
    "import tempfile\n",
    "import time\n",
    "\n",
    "## setup\n",
    "p.connect(p.GUI)\n",
    "p.resetSimulation()\n",
    "p.setGravity(gravX=0, gravY=0, gravZ=-9.8)\n",
    "\n",
    "## data\n",
    "urdf_string = \"\"\"\"\n",
    "<robot name=\"cube_urdf\">\n",
    "\n",
    "  <link name=\"cube_link\">\n",
    "    <visual>\n",
    "      <geometry>\n",
    "        <box size=\"0.5 0.5 0.5\"/> <!-- 50 cm cube -->\n",
    "      </geometry>\n",
    "      <material name=\"blue\">\n",
    "        <color rgba=\"0 0 1 1\"/>\n",
    "      </material>\n",
    "    </visual>\n",
    "\n",
    "    <collision>\n",
    "      <geometry>\n",
    "        <box size=\"0.5 0.5 0.5\"/>\n",
    "      </geometry>\n",
    "    </collision>\n",
    "\n",
    "    <inertial>\n",
    "      <mass value=\"1.0\"/>\n",
    "      <inertia ixx=\"0.0001\" iyy=\"0.0001\" izz=\"0.0001\"\n",
    "               ixy=\"0.0\" ixz=\"0.0\" iyz=\"0.0\"/>\n",
    "    </inertial>\n",
    "  </link>\n",
    "</robot>\n",
    "\"\"\"\n",
    "\n",
    "## create a temporary URDF file in memory\n",
    "with tempfile.NamedTemporaryFile(suffix=\".urdf\", mode=\"w\", delete=False) as f:\n",
    "    f.write(urdf_string)\n",
    "    urdf_file = f.name\n",
    "\n",
    "## load URDF\n",
    "p.loadURDF(fileName=urdf_file, basePosition=[0,0,1])\n",
    "\n",
    "## render simulation\n",
    "for _ in range(240):\n",
    "    p.stepSimulation() #add a physics step (CPU speed = 0.1 seconds)\n",
    "    time.sleep(1/240)  #slow down to real-time (240 steps × 1/240 second sleep = 1 second)\n",
    "\n",
    "p.disconnect()"
   ]
  },
  {
   "cell_type": "code",
   "execution_count": null,
   "id": "5f5ab088-e67f-4ac4-899e-28f089f7b886",
   "metadata": {
    "id": "5f5ab088-e67f-4ac4-899e-28f089f7b886",
    "outputId": "220fb83e-c130-43bc-fea8-fb0e7902587b"
   },
   "outputs": [
    {
     "name": "stderr",
     "output_type": "stream",
     "text": [
      "pybullet build time: Sep  3 2024 12:57:17\n"
     ]
    }
   ],
   "source": [
    "import pybullet as p\n",
    "import pybullet_data\n",
    "import time\n",
    "\n",
    "## setup\n",
    "p.connect(p.GUI)\n",
    "p.resetSimulation()\n",
    "p.setGravity(gravX=0, gravY=0, gravZ=-9.8)\n",
    "p.setAdditionalSearchPath(path=pybullet_data.getDataPath())\n",
    "\n",
    "## load URDF\n",
    "p.loadURDF(fileName=\"cube.urdf\", basePosition=[0,0,1])\n",
    "\n",
    "## render simulation\n",
    "for _ in range(240):\n",
    "    p.stepSimulation()\n",
    "    time.sleep(1/240)\n",
    "\n",
    "p.disconnect()"
   ]
  },
  {
   "cell_type": "markdown",
   "id": "44758b2d-9099-4a57-8ddb-ef6e16ea7658",
   "metadata": {
    "id": "44758b2d-9099-4a57-8ddb-ef6e16ea7658",
    "jp-MarkdownHeadingCollapsed": true
   },
   "source": [
    "### R2d2"
   ]
  },
  {
   "cell_type": "code",
   "execution_count": null,
   "id": "7cf7aeac-c94f-478b-9d74-2437f821d94f",
   "metadata": {
    "id": "7cf7aeac-c94f-478b-9d74-2437f821d94f",
    "outputId": "fe0dcb01-352c-4f3d-d6f4-49aff5f28e03"
   },
   "outputs": [
    {
     "name": "stderr",
     "output_type": "stream",
     "text": [
      "pybullet build time: Sep  3 2024 12:57:17\n"
     ]
    }
   ],
   "source": [
    "import pybullet as p\n",
    "import pybullet_data\n",
    "import time\n",
    "\n",
    "## setup\n",
    "p.connect(p.GUI)\n",
    "p.resetSimulation()\n",
    "p.setGravity(gravX=0, gravY=0, gravZ=-9.8)\n",
    "p.setAdditionalSearchPath(path=pybullet_data.getDataPath())\n",
    "\n",
    "## load URDF\n",
    "plane = p.loadURDF(\"plane.urdf\")\n",
    "robo = p.loadURDF(fileName=\"r2d2.urdf\", basePosition=[0,0,0.1])\n",
    "\n",
    "## render simulation\n",
    "for _ in range(240):\n",
    "    p.stepSimulation()\n",
    "    time.sleep(1/240)\n",
    "\n",
    "p.disconnect()"
   ]
  },
  {
   "cell_type": "code",
   "execution_count": null,
   "id": "667b5e06-bea0-46a5-bc83-eb240285f5c2",
   "metadata": {
    "id": "667b5e06-bea0-46a5-bc83-eb240285f5c2",
    "outputId": "26648d1f-9715-4bfa-8d5a-53d364d873dd"
   },
   "outputs": [
    {
     "name": "stdout",
     "output_type": "stream",
     "text": [
      "--- JOINT 0 ---\n",
      "{'joint Index': 0, 'joint Name': b'base_to_right_leg', 'joint Type': 4, 'state vectorIndex': -1, 'velocity vectorIndex': -1, 'flags': 0, 'joint Damping': 0.0, 'joint Friction': 0.0, 'joint lowerLimit': 0.0, 'joint upperLimit': -1.0, 'joint maxForce': 0.0, 'joint maxVelocity': 0.0, 'link Name': b'right_leg', 'joint Axis': (0.0, 0.0, 0.0), 'parent FramePos': (0.22, 0.0, 0.25), 'parent FrameOrn': (0.0, -0.7070904020014416, 0.0, 0.7071231599922604), 'parent Index': -1}\n",
      "--- JOINT 1 ---\n",
      "{'joint Index': 1, 'joint Name': b'right_base_joint', 'joint Type': 4, 'state vectorIndex': -1, 'velocity vectorIndex': -1, 'flags': 0, 'joint Damping': 0.0, 'joint Friction': 0.0, 'joint lowerLimit': 0.0, 'joint upperLimit': -1.0, 'joint maxForce': 0.0, 'joint maxVelocity': 0.0, 'link Name': b'right_base', 'joint Axis': (0.0, 0.0, 0.0), 'parent FramePos': (0.2999999996780742, 0.0, -1.3898038463944216e-05), 'parent FrameOrn': (0.0, 0.7070904020014416, 0.0, 0.7071231599922604), 'parent Index': 0}\n",
      "--- JOINT 2 ---\n",
      "{'joint Index': 2, 'joint Name': b'right_front_wheel_joint', 'joint Type': 0, 'state vectorIndex': 7, 'velocity vectorIndex': 6, 'flags': 1, 'joint Damping': 0.0, 'joint Friction': 0.0, 'joint lowerLimit': 0.0, 'joint upperLimit': -1.0, 'joint maxForce': 100.0, 'joint maxVelocity': 100.0, 'link Name': b'right_front_wheel', 'joint Axis': (0.0, 0.0, 1.0), 'parent FramePos': (0.0, 0.133333333333, -0.085), 'parent FrameOrn': (0.0, -0.7070904020014416, 0.0, 0.7071231599922604), 'parent Index': 1}\n",
      "--- JOINT 3 ---\n",
      "{'joint Index': 3, 'joint Name': b'right_back_wheel_joint', 'joint Type': 0, 'state vectorIndex': 8, 'velocity vectorIndex': 7, 'flags': 1, 'joint Damping': 0.0, 'joint Friction': 0.0, 'joint lowerLimit': 0.0, 'joint upperLimit': -1.0, 'joint maxForce': 100.0, 'joint maxVelocity': 100.0, 'link Name': b'right_back_wheel', 'joint Axis': (0.0, 0.0, 1.0), 'parent FramePos': (0.0, -0.133333333333, -0.085), 'parent FrameOrn': (0.0, -0.7070904020014416, 0.0, 0.7071231599922604), 'parent Index': 1}\n",
      "--- JOINT 4 ---\n",
      "{'joint Index': 4, 'joint Name': b'base_to_left_leg', 'joint Type': 4, 'state vectorIndex': -1, 'velocity vectorIndex': -1, 'flags': 0, 'joint Damping': 0.0, 'joint Friction': 0.0, 'joint lowerLimit': 0.0, 'joint upperLimit': -1.0, 'joint maxForce': 0.0, 'joint maxVelocity': 0.0, 'link Name': b'left_leg', 'joint Axis': (0.0, 0.0, 0.0), 'parent FramePos': (-0.22, 0.0, 0.25), 'parent FrameOrn': (0.0, -0.7070904020014416, 0.0, 0.7071231599922604), 'parent Index': -1}\n",
      "--- JOINT 5 ---\n",
      "{'joint Index': 5, 'joint Name': b'left_base_joint', 'joint Type': 4, 'state vectorIndex': -1, 'velocity vectorIndex': -1, 'flags': 0, 'joint Damping': 0.0, 'joint Friction': 0.0, 'joint lowerLimit': 0.0, 'joint upperLimit': -1.0, 'joint maxForce': 0.0, 'joint maxVelocity': 0.0, 'link Name': b'left_base', 'joint Axis': (0.0, 0.0, 0.0), 'parent FramePos': (0.2999999996780742, 0.0, -1.3898038463944216e-05), 'parent FrameOrn': (0.0, 0.7070904020014416, 0.0, 0.7071231599922604), 'parent Index': 4}\n",
      "--- JOINT 6 ---\n",
      "{'joint Index': 6, 'joint Name': b'left_front_wheel_joint', 'joint Type': 0, 'state vectorIndex': 9, 'velocity vectorIndex': 8, 'flags': 1, 'joint Damping': 0.0, 'joint Friction': 0.0, 'joint lowerLimit': 0.0, 'joint upperLimit': -1.0, 'joint maxForce': 100.0, 'joint maxVelocity': 100.0, 'link Name': b'left_front_wheel', 'joint Axis': (0.0, 0.0, 1.0), 'parent FramePos': (0.0, 0.133333333333, -0.085), 'parent FrameOrn': (0.0, -0.7070904020014416, 0.0, 0.7071231599922604), 'parent Index': 5}\n",
      "--- JOINT 7 ---\n",
      "{'joint Index': 7, 'joint Name': b'left_back_wheel_joint', 'joint Type': 0, 'state vectorIndex': 10, 'velocity vectorIndex': 9, 'flags': 1, 'joint Damping': 0.0, 'joint Friction': 0.0, 'joint lowerLimit': 0.0, 'joint upperLimit': -1.0, 'joint maxForce': 100.0, 'joint maxVelocity': 100.0, 'link Name': b'left_back_wheel', 'joint Axis': (0.0, 0.0, 1.0), 'parent FramePos': (0.0, -0.133333333333, -0.085), 'parent FrameOrn': (0.0, -0.7070904020014416, 0.0, 0.7071231599922604), 'parent Index': 5}\n",
      "--- JOINT 8 ---\n",
      "{'joint Index': 8, 'joint Name': b'gripper_extension', 'joint Type': 1, 'state vectorIndex': 11, 'velocity vectorIndex': 10, 'flags': 1, 'joint Damping': 0.0, 'joint Friction': 0.0, 'joint lowerLimit': -0.38, 'joint upperLimit': 0.0, 'joint maxForce': 1000.0, 'joint maxVelocity': 0.5, 'link Name': b'gripper_pole', 'joint Axis': (1.0, 0.0, 0.0), 'parent FramePos': (0.0, 0.19, 0.2), 'parent FrameOrn': (0.0, 0.0, -0.7070904020014416, 0.7071231599922604), 'parent Index': -1}\n",
      "--- JOINT 9 ---\n",
      "{'joint Index': 9, 'joint Name': b'left_gripper_joint', 'joint Type': 0, 'state vectorIndex': 12, 'velocity vectorIndex': 11, 'flags': 1, 'joint Damping': 0.0, 'joint Friction': 0.0, 'joint lowerLimit': 0.0, 'joint upperLimit': 0.548, 'joint maxForce': 1000.0, 'joint maxVelocity': 0.5, 'link Name': b'left_gripper', 'joint Axis': (0.0, 0.0, 1.0), 'parent FramePos': (0.2, 0.02, 0.0), 'parent FrameOrn': (0.0, 0.0, 0.0, 1.0), 'parent Index': 8}\n",
      "--- JOINT 10 ---\n",
      "{'joint Index': 10, 'joint Name': b'left_tip_joint', 'joint Type': 4, 'state vectorIndex': -1, 'velocity vectorIndex': -1, 'flags': 0, 'joint Damping': 0.0, 'joint Friction': 0.0, 'joint lowerLimit': 0.0, 'joint upperLimit': -1.0, 'joint maxForce': 0.0, 'joint maxVelocity': 0.0, 'link Name': b'left_tip', 'joint Axis': (0.0, 0.0, 0.0), 'parent FramePos': (0.0, 0.0, 0.0), 'parent FrameOrn': (0.0, 0.0, 0.0, 1.0), 'parent Index': 9}\n",
      "--- JOINT 11 ---\n",
      "{'joint Index': 11, 'joint Name': b'right_gripper_joint', 'joint Type': 0, 'state vectorIndex': 13, 'velocity vectorIndex': 12, 'flags': 1, 'joint Damping': 0.0, 'joint Friction': 0.0, 'joint lowerLimit': 0.0, 'joint upperLimit': 0.548, 'joint maxForce': 1000.0, 'joint maxVelocity': 0.5, 'link Name': b'right_gripper', 'joint Axis': (0.0, 0.0, -1.0), 'parent FramePos': (0.2, -0.02, 0.0), 'parent FrameOrn': (0.0, 0.0, 0.0, 1.0), 'parent Index': 8}\n",
      "--- JOINT 12 ---\n",
      "{'joint Index': 12, 'joint Name': b'right_tip_joint', 'joint Type': 4, 'state vectorIndex': -1, 'velocity vectorIndex': -1, 'flags': 0, 'joint Damping': 0.0, 'joint Friction': 0.0, 'joint lowerLimit': 0.0, 'joint upperLimit': -1.0, 'joint maxForce': 0.0, 'joint maxVelocity': 0.0, 'link Name': b'right_tip', 'joint Axis': (0.0, 0.0, 0.0), 'parent FramePos': (0.0, 0.0, 0.0), 'parent FrameOrn': (0.0, 0.0, 0.0, 1.0), 'parent Index': 11}\n",
      "--- JOINT 13 ---\n",
      "{'joint Index': 13, 'joint Name': b'head_swivel', 'joint Type': 0, 'state vectorIndex': 14, 'velocity vectorIndex': 13, 'flags': 1, 'joint Damping': 0.0, 'joint Friction': 0.0, 'joint lowerLimit': -0.38, 'joint upperLimit': 0.0, 'joint maxForce': 1000.0, 'joint maxVelocity': 0.5, 'link Name': b'head', 'joint Axis': (0.0, 0.0, 1.0), 'parent FramePos': (0.0, 0.0, 0.3), 'parent FrameOrn': (0.0, 0.0, 0.0, 1.0), 'parent Index': -1}\n",
      "--- JOINT 14 ---\n",
      "{'joint Index': 14, 'joint Name': b'tobox', 'joint Type': 4, 'state vectorIndex': -1, 'velocity vectorIndex': -1, 'flags': 0, 'joint Damping': 0.0, 'joint Friction': 0.0, 'joint lowerLimit': 0.0, 'joint upperLimit': -1.0, 'joint maxForce': 0.0, 'joint maxVelocity': 0.0, 'link Name': b'box', 'joint Axis': (0.0, 0.0, 0.0), 'parent FramePos': (0.0, 0.1214, 0.1214), 'parent FrameOrn': (0.0, 0.0, 0.0, 1.0), 'parent Index': 13}\n"
     ]
    }
   ],
   "source": [
    "import pybullet as p\n",
    "import pybullet_data\n",
    "\n",
    "## setup\n",
    "p.connect(p.DIRECT)\n",
    "p.resetSimulation()\n",
    "p.setGravity(gravX=0, gravY=0, gravZ=-9.8)\n",
    "p.setAdditionalSearchPath(path=pybullet_data.getDataPath())\n",
    "\n",
    "## load URDF\n",
    "robo = p.loadURDF(fileName=\"r2d2.urdf\", basePosition=[0,0,0.1])\n",
    "\n",
    "## joints\n",
    "dic_info = {\n",
    "    0:\"joint Index\",  #starts at 0\n",
    "    1:\"joint Name\",\n",
    "    2:\"joint Type\",  #0=revolute (rotational), 1=prismatic (sliding), 4=fixed\n",
    "    3:\"state vectorIndex\",\n",
    "    4:\"velocity vectorIndex\",\n",
    "    5:\"flags\",  #nvm always 0\n",
    "    6:\"joint Damping\",\n",
    "    7:\"joint Friction\",  #coefficient\n",
    "    8:\"joint lowerLimit\",  #min angle\n",
    "    9:\"joint upperLimit\",  #max angle\n",
    "    10:\"joint maxForce\",  #max force allowed\n",
    "    11:\"joint maxVelocity\",  #max speed\n",
    "    12:\"link Name\",  #child link connected to this joint\n",
    "    13:\"joint Axis\",\n",
    "    14:\"parent FramePos\",  #position\n",
    "    15:\"parent FrameOrn\",  #orientation\n",
    "    16:\"parent Index\"  #−1 = base\n",
    "}\n",
    "for i in range(p.getNumJoints(bodyUniqueId=robo)):\n",
    "    joint_info = p.getJointInfo(bodyUniqueId=robo, jointIndex=i)\n",
    "    print(f\"--- JOINT {i} ---\")\n",
    "    print({dic_info[k]:joint_info[k] for k in dic_info.keys()})"
   ]
  },
  {
   "cell_type": "code",
   "execution_count": null,
   "id": "1de2fca1-81ff-4d03-93fb-6ec69c9655c3",
   "metadata": {
    "id": "1de2fca1-81ff-4d03-93fb-6ec69c9655c3",
    "outputId": "2c9fa95a-ccee-4cc7-94ef-4b6e6ce9404f"
   },
   "outputs": [
    {
     "name": "stdout",
     "output_type": "stream",
     "text": [
      "--- LINK 0: right_leg ---\n",
      "{'Mass': 10.0, 'Friction': 0.5, 'Position': (0.22, 0.0, 0.05), 'Orientation': (-0.0, 0.7070904020014415, -0.0, 0.7071231599922604)}\n",
      "--- LINK 1: right_base ---\n",
      "{'Mass': 10.0, 'Friction': 0.5, 'Position': (0.21999999999999995, 0.0, -0.25000000000000017), 'Orientation': (0.0, 0.0, 0.0, 1.0)}\n",
      "--- LINK 2: right_front_wheel ---\n",
      "{'Mass': 1.0, 'Friction': 0.5, 'Position': (0.21999999999999995, 0.13333333333300007, -0.3350000000000002), 'Orientation': (-0.0, 0.7070904020014415, -0.0, 0.7071231599922604)}\n",
      "--- LINK 3: right_back_wheel ---\n",
      "{'Mass': 1.0, 'Friction': 0.5, 'Position': (0.21999999999999995, -0.13333333333300007, -0.3350000000000002), 'Orientation': (-0.0, 0.7070904020014415, -0.0, 0.7071231599922604)}\n",
      "--- LINK 4: left_leg ---\n",
      "{'Mass': 10.0, 'Friction': 0.5, 'Position': (-0.22000000000000008, 0.0, 0.05000000000000003), 'Orientation': (-0.0, 0.7070904020014415, -0.0, 0.7071231599922604)}\n",
      "--- LINK 5: left_base ---\n",
      "{'Mass': 10.0, 'Friction': 0.5, 'Position': (-0.22000000000000014, 0.0, -0.2500000000000001), 'Orientation': (0.0, 0.0, 0.0, 1.0)}\n",
      "--- LINK 6: left_front_wheel ---\n",
      "{'Mass': 1.0, 'Friction': 0.5, 'Position': (-0.22000000000000014, 0.13333333333300007, -0.3350000000000002), 'Orientation': (-0.0, 0.7070904020014415, -0.0, 0.7071231599922604)}\n",
      "--- LINK 7: left_back_wheel ---\n",
      "{'Mass': 1.0, 'Friction': 0.5, 'Position': (-0.22000000000000014, -0.13333333333300007, -0.3350000000000002), 'Orientation': (-0.0, 0.7070904020014415, -0.0, 0.7071231599922604)}\n",
      "--- LINK 8: gripper_pole ---\n",
      "{'Mass': 0.05, 'Friction': 0.5, 'Position': (-2.7755575615628914e-17, 0.19000000000000006, 0.30000000000000004), 'Orientation': (-0.0, -0.0, 0.7070904020014415, 0.7071231599922604)}\n",
      "--- LINK 9: left_gripper ---\n",
      "{'Mass': 0.05, 'Friction': 0.5, 'Position': (-0.019990734619562384, 0.3900009263212805, 0.30000000000000004), 'Orientation': (-0.0, -0.0, 0.7070904020014415, 0.7071231599922604)}\n",
      "--- LINK 10: left_tip ---\n",
      "{'Mass': 0.05, 'Friction': 0.5, 'Position': (-0.019990734619562384, 0.3900009263212805, 0.30000000000000004), 'Orientation': (-0.0, -0.0, 0.7070904020014415, 0.7071231599922604)}\n",
      "--- LINK 11: right_gripper ---\n",
      "{'Mass': 0.05, 'Friction': 0.5, 'Position': (0.02000926533751418, 0.3899990732494853, 0.30000000000000004), 'Orientation': (-0.0, -0.0, 0.7070904020014415, 0.7071231599922604)}\n",
      "--- LINK 12: right_tip ---\n",
      "{'Mass': 0.05, 'Friction': 0.5, 'Position': (0.02000926533751418, 0.3899990732494853, 0.30000000000000004), 'Orientation': (-0.0, -0.0, 0.7070904020014415, 0.7071231599922604)}\n",
      "--- LINK 13: head ---\n",
      "{'Mass': 10.0, 'Friction': 0.5, 'Position': (0.0, 0.0, 0.4), 'Orientation': (0.0, 0.0, 0.0, 1.0)}\n",
      "--- LINK 14: box ---\n",
      "{'Mass': 1.0, 'Friction': 0.5, 'Position': (0.0, 0.1214, 0.5214), 'Orientation': (0.0, 0.0, 0.0, 1.0)}\n"
     ]
    }
   ],
   "source": [
    "import pybullet as p\n",
    "import pybullet_data\n",
    "\n",
    "## setup\n",
    "p.connect(p.DIRECT)\n",
    "p.resetSimulation()\n",
    "p.setGravity(gravX=0, gravY=0, gravZ=-9.8)\n",
    "p.setAdditionalSearchPath(path=pybullet_data.getDataPath())\n",
    "\n",
    "## load URDF\n",
    "robo = p.loadURDF(fileName=\"r2d2.urdf\", basePosition=[0,0,0.1])\n",
    "\n",
    "## links\n",
    "for i in range(p.getNumJoints(robo)):\n",
    "    link_name = p.getJointInfo(robo, i)[12].decode('utf-8')  #field 12=\"link Name\"\n",
    "    dyn = p.getDynamicsInfo(robo, i)\n",
    "    pos, orn, *_ = p.getLinkState(robo, i)\n",
    "    dic_info = {\"Mass\":dyn[0], \"Friction\":dyn[1], \"Position\":pos, \"Orientation\":orn}\n",
    "    print(f\"--- LINK {i}: {link_name} ---\")\n",
    "    print(dic_info)"
   ]
  },
  {
   "cell_type": "code",
   "execution_count": null,
   "id": "db72ff94-8053-478f-9ffe-4fe0aa6a7572",
   "metadata": {
    "id": "db72ff94-8053-478f-9ffe-4fe0aa6a7572",
    "outputId": "d19cb36b-eff4-445e-ba29-ab9d15f6b6bc"
   },
   "outputs": [
    {
     "name": "stderr",
     "output_type": "stream",
     "text": [
      "pybullet build time: Sep  3 2024 12:57:17\n"
     ]
    }
   ],
   "source": [
    "import pybullet as p\n",
    "import pybullet_data\n",
    "import time\n",
    "\n",
    "## setup\n",
    "p.connect(p.GUI)\n",
    "p.resetSimulation()\n",
    "p.setGravity(gravX=0, gravY=0, gravZ=-9.8)\n",
    "p.setAdditionalSearchPath(path=pybullet_data.getDataPath())\n",
    "\n",
    "## load URDF\n",
    "plane = p.loadURDF(\"plane.urdf\")\n",
    "robo = p.loadURDF(fileName=\"r2d2.urdf\", basePosition=[0,0,0.1])\n",
    "\n",
    "## settle down\n",
    "for _ in range(240):\n",
    "    p.stepSimulation()\n",
    "\n",
    "right_wheels = [2,3]\n",
    "left_wheels = [6,7]\n",
    "\n",
    "### first turn\n",
    "for _ in range(240):\n",
    "    for j in right_wheels:\n",
    "        p.setJointMotorControl2(bodyUniqueId=robo, jointIndex=j,\n",
    "                                controlMode=p.VELOCITY_CONTROL,\n",
    "                                targetVelocity=-100, force=50)\n",
    "    for j in left_wheels:\n",
    "        p.setJointMotorControl2(bodyUniqueId=robo, jointIndex=j,\n",
    "                                controlMode=p.VELOCITY_CONTROL,\n",
    "                                targetVelocity=100, force=50)\n",
    "    p.stepSimulation()\n",
    "    time.sleep(1/240)\n",
    "\n",
    "### then move forward\n",
    "for _ in range(500):\n",
    "    for j in right_wheels + left_wheels:\n",
    "        p.setJointMotorControl2(bodyUniqueId=robo, jointIndex=j,\n",
    "                                controlMode=p.VELOCITY_CONTROL,\n",
    "                                targetVelocity=-100, force=10)\n",
    "    p.stepSimulation()\n",
    "    time.sleep(1/240)\n",
    "\n",
    "p.disconnect()"
   ]
  },
  {
   "cell_type": "markdown",
   "id": "7965679a-5d27-4eda-b1db-39f496b8acff",
   "metadata": {
    "id": "7965679a-5d27-4eda-b1db-39f496b8acff",
    "jp-MarkdownHeadingCollapsed": true
   },
   "source": [
    "### Robo Arm"
   ]
  },
  {
   "cell_type": "markdown",
   "id": "b3bfe20d-f277-4f12-8546-6c24d407cdf5",
   "metadata": {
    "id": "b3bfe20d-f277-4f12-8546-6c24d407cdf5",
    "jp-MarkdownHeadingCollapsed": true
   },
   "source": [
    "###### Setup"
   ]
  },
  {
   "cell_type": "code",
   "execution_count": null,
   "id": "356a5829-183a-4eb6-8315-7a0a08571f53",
   "metadata": {
    "id": "356a5829-183a-4eb6-8315-7a0a08571f53",
    "outputId": "76b09a44-c906-44dc-9542-d03b6cca2e14"
   },
   "outputs": [
    {
     "name": "stderr",
     "output_type": "stream",
     "text": [
      "pybullet build time: Sep  3 2024 12:57:17\n"
     ]
    }
   ],
   "source": [
    "import pybullet as p\n",
    "import pybullet_data\n",
    "import time\n",
    "\n",
    "## setup\n",
    "p.connect(p.GUI)\n",
    "p.resetSimulation()\n",
    "p.setGravity(gravX=0, gravY=0, gravZ=-9.8)\n",
    "p.setAdditionalSearchPath(path=pybullet_data.getDataPath())\n",
    "\n",
    "## load URDF\n",
    "plane = p.loadURDF(\"plane.urdf\")\n",
    "\n",
    "cube = p.loadURDF(\"cube.urdf\", basePosition=[0,0,0.1], globalScaling=0.5, useFixedBase=True)\n",
    "\n",
    "obj = p.loadURDF(\"cube_small.urdf\", basePosition=[1,1,0.1], globalScaling=1.5)\n",
    "p.changeVisualShape(objectUniqueId=obj, linkIndex=-1, rgbaColor=[1,0,0,1]) #red\n",
    "\n",
    "#ball = p.loadURDF(\"sphere_small.urdf\", basePosition=[1,1,0.1], globalScaling=1.5)\n",
    "\n",
    "while p.isConnected():\n",
    "    p.setRealTimeSimulation(True)"
   ]
  },
  {
   "cell_type": "markdown",
   "id": "6590719a-2dfe-4bbb-81c0-0f3c8554954b",
   "metadata": {
    "id": "6590719a-2dfe-4bbb-81c0-0f3c8554954b",
    "jp-MarkdownHeadingCollapsed": true
   },
   "source": [
    "###### Robot"
   ]
  },
  {
   "cell_type": "code",
   "execution_count": null,
   "id": "f385825e-c8fc-4cca-a545-15b327214d9b",
   "metadata": {
    "id": "f385825e-c8fc-4cca-a545-15b327214d9b",
    "outputId": "a27f5e36-85d3-4ccb-ab9c-8470b1ed47a5"
   },
   "outputs": [
    {
     "name": "stderr",
     "output_type": "stream",
     "text": [
      "pybullet build time: Sep  3 2024 12:57:17\n"
     ]
    }
   ],
   "source": [
    "import pybullet as p\n",
    "import pybullet_data\n",
    "import time\n",
    "\n",
    "## setup\n",
    "p.connect(p.GUI)\n",
    "p.resetSimulation()\n",
    "p.setGravity(gravX=0, gravY=0, gravZ=-9.8)\n",
    "p.setAdditionalSearchPath(path=pybullet_data.getDataPath())\n",
    "\n",
    "## load URDF\n",
    "plane = p.loadURDF(\"plane.urdf\")\n",
    "cube = p.loadURDF(\"cube.urdf\", basePosition=[0,0,0.1], globalScaling=0.5, useFixedBase=True)\n",
    "obj = p.loadURDF(\"cube_small.urdf\", basePosition=[1,1,0.1], globalScaling=1.5)\n",
    "p.changeVisualShape(objectUniqueId=obj, linkIndex=-1, rgbaColor=[1,0,0,1])\n",
    "\n",
    "robo = p.loadURDF(\"franka_panda/panda.urdf\", basePosition=[1,0,0.1], useFixedBase=True)\n",
    "\n",
    "while p.isConnected():\n",
    "    p.setRealTimeSimulation(True)"
   ]
  },
  {
   "cell_type": "code",
   "execution_count": null,
   "id": "19488581-50f0-4b1e-a606-3afd9b69b583",
   "metadata": {
    "id": "19488581-50f0-4b1e-a606-3afd9b69b583",
    "outputId": "84d30f2c-ee39-463e-a735-240f490ea02f"
   },
   "outputs": [
    {
     "name": "stdout",
     "output_type": "stream",
     "text": [
      "--- JOINT 0 ---\n",
      "{'joint Index': 0, 'joint Name': b'panda_joint1', 'joint Type': 0, 'state vectorIndex': 7, 'velocity vectorIndex': 6, 'flags': 1, 'joint Damping': 0.0, 'joint Friction': 0.0, 'joint lowerLimit': -2.9671, 'joint upperLimit': 2.9671, 'joint maxForce': 87.0, 'joint maxVelocity': 2.175, 'link Name': b'panda_link1', 'joint Axis': (0.0, 0.0, 1.0), 'parent FramePos': (0.0, 0.0, 0.28300000000000003), 'parent FrameOrn': (0.0, 0.0, 0.0, 1.0), 'parent Index': -1}\n",
      "--- JOINT 1 ---\n",
      "{'joint Index': 1, 'joint Name': b'panda_joint2', 'joint Type': 0, 'state vectorIndex': 8, 'velocity vectorIndex': 7, 'flags': 1, 'joint Damping': 0.0, 'joint Friction': 0.0, 'joint lowerLimit': -1.8326, 'joint upperLimit': 1.8326, 'joint maxForce': 87.0, 'joint maxVelocity': 2.175, 'link Name': b'panda_link2', 'joint Axis': (0.0, 0.0, 1.0), 'parent FramePos': (0.0, 0.04, 0.05), 'parent FrameOrn': (0.7071067811848163, 0.0, 0.0, 0.7071067811882787), 'parent Index': 0}\n",
      "--- JOINT 2 ---\n",
      "{'joint Index': 2, 'joint Name': b'panda_joint3', 'joint Type': 0, 'state vectorIndex': 9, 'velocity vectorIndex': 8, 'flags': 1, 'joint Damping': 0.0, 'joint Friction': 0.0, 'joint lowerLimit': -2.9671, 'joint upperLimit': 2.9671, 'joint maxForce': 87.0, 'joint maxVelocity': 2.175, 'link Name': b'panda_link3', 'joint Axis': (0.0, 0.0, 1.0), 'parent FramePos': (0.0, -0.276, -0.06), 'parent FrameOrn': (-0.7071067811848163, 0.0, 0.0, 0.7071067811882787), 'parent Index': 1}\n",
      "--- JOINT 3 ---\n",
      "{'joint Index': 3, 'joint Name': b'panda_joint4', 'joint Type': 0, 'state vectorIndex': 10, 'velocity vectorIndex': 9, 'flags': 1, 'joint Damping': 0.0, 'joint Friction': 0.0, 'joint lowerLimit': -3.1416, 'joint upperLimit': 0.0, 'joint maxForce': 87.0, 'joint maxVelocity': 2.175, 'link Name': b'panda_link4', 'joint Axis': (0.0, 0.0, 1.0), 'parent FramePos': (0.07250000000000001, -0.01, 0.05), 'parent FrameOrn': (-0.7071067811848163, 0.0, 0.0, 0.7071067811882787), 'parent Index': 2}\n",
      "--- JOINT 4 ---\n",
      "{'joint Index': 4, 'joint Name': b'panda_joint5', 'joint Type': 0, 'state vectorIndex': 11, 'velocity vectorIndex': 10, 'flags': 1, 'joint Damping': 0.0, 'joint Friction': 0.0, 'joint lowerLimit': -2.9671, 'joint upperLimit': 2.9671, 'joint maxForce': 12.0, 'joint maxVelocity': 2.61, 'link Name': b'panda_link5', 'joint Axis': (0.0, 0.0, 1.0), 'parent FramePos': (-0.052500000000000005, 0.354, -0.02), 'parent FrameOrn': (0.7071067811848163, 0.0, 0.0, 0.7071067811882787), 'parent Index': 3}\n",
      "--- JOINT 5 ---\n",
      "{'joint Index': 5, 'joint Name': b'panda_joint6', 'joint Type': 0, 'state vectorIndex': 12, 'velocity vectorIndex': 11, 'flags': 1, 'joint Damping': 0.0, 'joint Friction': 0.0, 'joint lowerLimit': -0.0873, 'joint upperLimit': 3.8223, 'joint maxForce': 12.0, 'joint maxVelocity': 2.61, 'link Name': b'panda_link6', 'joint Axis': (0.0, 0.0, 1.0), 'parent FramePos': (0.0, -0.04, 0.12), 'parent FrameOrn': (-0.7071067811848163, 0.0, 0.0, 0.7071067811882787), 'parent Index': 4}\n",
      "--- JOINT 6 ---\n",
      "{'joint Index': 6, 'joint Name': b'panda_joint7', 'joint Type': 0, 'state vectorIndex': 13, 'velocity vectorIndex': 12, 'flags': 1, 'joint Damping': 0.0, 'joint Friction': 0.0, 'joint lowerLimit': -2.9671, 'joint upperLimit': 2.9671, 'joint maxForce': 12.0, 'joint maxVelocity': 2.61, 'link Name': b'panda_link7', 'joint Axis': (0.0, 0.0, 1.0), 'parent FramePos': (0.047999999999999994, 0.0, 0.0), 'parent FrameOrn': (-0.7071067811848163, 0.0, 0.0, 0.7071067811882787), 'parent Index': 5}\n",
      "--- JOINT 7 ---\n",
      "{'joint Index': 7, 'joint Name': b'panda_joint8', 'joint Type': 4, 'state vectorIndex': -1, 'velocity vectorIndex': -1, 'flags': 0, 'joint Damping': 0.0, 'joint Friction': 0.0, 'joint lowerLimit': 0.0, 'joint upperLimit': -1.0, 'joint maxForce': 0.0, 'joint maxVelocity': 0.0, 'link Name': b'panda_link8', 'joint Axis': (0.0, 0.0, 0.0), 'parent FramePos': (0.0, 0.0, 0.026999999999999996), 'parent FrameOrn': (0.0, 0.0, 0.0, 1.0), 'parent Index': 6}\n",
      "--- JOINT 8 ---\n",
      "{'joint Index': 8, 'joint Name': b'panda_hand_joint', 'joint Type': 4, 'state vectorIndex': -1, 'velocity vectorIndex': -1, 'flags': 0, 'joint Damping': 0.0, 'joint Friction': 0.0, 'joint lowerLimit': 0.0, 'joint upperLimit': -1.0, 'joint maxForce': 0.0, 'joint maxVelocity': 0.0, 'link Name': b'panda_hand', 'joint Axis': (0.0, 0.0, 0.0), 'parent FramePos': (0.0, 0.0, 0.0), 'parent FrameOrn': (0.0, 0.0, 0.38268343236488267, 0.9238795325113726), 'parent Index': 7}\n",
      "--- JOINT 9 ---\n",
      "{'joint Index': 9, 'joint Name': b'panda_finger_joint1', 'joint Type': 1, 'state vectorIndex': 14, 'velocity vectorIndex': 13, 'flags': 1, 'joint Damping': 0.0, 'joint Friction': 0.0, 'joint lowerLimit': 0.0, 'joint upperLimit': 0.04, 'joint maxForce': 20.0, 'joint maxVelocity': 0.2, 'link Name': b'panda_leftfinger', 'joint Axis': (0.0, 1.0, 0.0), 'parent FramePos': (0.0, 0.0, 0.0184), 'parent FrameOrn': (0.0, 0.0, 0.0, 1.0), 'parent Index': 8}\n",
      "--- JOINT 10 ---\n",
      "{'joint Index': 10, 'joint Name': b'panda_finger_joint2', 'joint Type': 1, 'state vectorIndex': 15, 'velocity vectorIndex': 14, 'flags': 1, 'joint Damping': 0.0, 'joint Friction': 0.0, 'joint lowerLimit': 0.0, 'joint upperLimit': 0.04, 'joint maxForce': 20.0, 'joint maxVelocity': 0.2, 'link Name': b'panda_rightfinger', 'joint Axis': (0.0, -1.0, 0.0), 'parent FramePos': (0.0, 0.0, 0.0184), 'parent FrameOrn': (0.0, 0.0, 0.0, 1.0), 'parent Index': 8}\n",
      "--- JOINT 11 ---\n",
      "{'joint Index': 11, 'joint Name': b'panda_grasptarget_hand', 'joint Type': 4, 'state vectorIndex': -1, 'velocity vectorIndex': -1, 'flags': 0, 'joint Damping': 0.0, 'joint Friction': 0.0, 'joint lowerLimit': 0.0, 'joint upperLimit': -1.0, 'joint maxForce': 0.0, 'joint maxVelocity': 0.0, 'link Name': b'panda_grasptarget', 'joint Axis': (0.0, 0.0, 0.0), 'parent FramePos': (0.0, 0.0, 0.065), 'parent FrameOrn': (0.0, 0.0, 0.0, 1.0), 'parent Index': 8}\n",
      " \n",
      "--- LINK 0: panda_link1 ---\n",
      "{'Mass': 2.7, 'Friction': 0.5, 'Position': (0.0, -0.04, 0.28300000000000003), 'Orientation': (0.0, 0.0, 0.0, 1.0)}\n",
      "--- LINK 1: panda_link2 ---\n",
      "{'Mass': 2.73, 'Friction': 0.5, 'Position': (0.0, 0.059999999999804134, 0.3730000000002938), 'Orientation': (-0.7071067811848163, 0.0, 0.0, 0.7071067811882787)}\n",
      "--- LINK 2: panda_link3 ---\n",
      "{'Mass': 2.04, 'Friction': 0.5, 'Position': (0.01, 0.00999999999845265, 0.5990000000000001), 'Orientation': (0.0, 0.0, 0.0, 1.0)}\n",
      "--- LINK 3: panda_link4 ---\n",
      "{'Mass': 2.08, 'Friction': 0.5, 'Position': (0.05250000000000001, -0.020000000001400453, 0.679000000000098), 'Orientation': (0.7071067811848163, -0.0, -0.0, 0.7071067811882787)}\n",
      "--- LINK 4: panda_link5 ---\n",
      "{'Mass': 3.0, 'Friction': 0.5, 'Position': (6.938893903907228e-18, 0.040000000000332984, 0.913), 'Orientation': (0.0, 0.0, 0.0, 1.0)}\n",
      "--- LINK 5: panda_link6 ---\n",
      "{'Mass': 1.3, 'Friction': 0.5, 'Position': (0.04, 3.329975184485079e-13, 1.033), 'Orientation': (0.7071067811848163, -0.0, -0.0, 0.7071067811882787)}\n",
      "--- LINK 6: panda_link7 ---\n",
      "{'Mass': 0.2, 'Friction': 0.5, 'Position': (0.088, -4.504557837847756e-13, 0.953), 'Orientation': (1.0, 0.0, 0.0, 4.896583138958022e-12)}\n",
      "--- LINK 7: panda_link8 ---\n",
      "{'Mass': 0.0, 'Friction': 0.5, 'Position': (0.088, -7.148712732885087e-13, 0.9259999999999999), 'Orientation': (1.0, 0.0, 0.0, 4.896583138958022e-12)}\n",
      "--- LINK 8: panda_hand ---\n",
      "{'Mass': 0.81, 'Friction': 0.5, 'Position': (0.088, -1.1065979244051505e-12, 0.8859999999999999), 'Orientation': (0.9238795325113726, 0.38268343236488267, -1.8738412424764667e-12, 4.523852941323606e-12)}\n",
      "--- LINK 9: panda_leftfinger ---\n",
      "{'Mass': 0.1, 'Friction': 1.0, 'Position': (0.0950710678118623, -0.0070710678133513016, 0.8476000000000692), 'Orientation': (0.9238795325113726, 0.38268343236488267, -1.8738412424764667e-12, 4.523852941323606e-12)}\n",
      "--- LINK 10: panda_rightfinger ---\n",
      "{'Mass': 0.1, 'Friction': 1.0, 'Position': (0.0809289321881377, 0.0070710678103859895, 0.8475999999999306), 'Orientation': (0.9238795325113726, 0.38268343236488267, -1.8738412424764667e-12, 4.523852941323606e-12)}\n",
      "--- LINK 11: panda_grasptarget ---\n",
      "{'Mass': 0.0, 'Friction': 0.5, 'Position': (0.088, -1.7431537324696934e-12, 0.821), 'Orientation': (0.9238795325113726, 0.38268343236488267, -1.8738412424764667e-12, 4.523852941323606e-12)}\n"
     ]
    }
   ],
   "source": [
    "import pybullet as p\n",
    "import pybullet_data\n",
    "\n",
    "## setup\n",
    "p.connect(p.DIRECT)\n",
    "p.resetSimulation()\n",
    "p.setGravity(gravX=0, gravY=0, gravZ=-9.8)\n",
    "p.setAdditionalSearchPath(path=pybullet_data.getDataPath())\n",
    "\n",
    "## load URDF\n",
    "robo = p.loadURDF(\"franka_panda/panda.urdf\", basePosition=[1,0,0.1], useFixedBase=True)\n",
    "\n",
    "## joints\n",
    "dic_info = {\n",
    "    0:\"joint Index\",  #starts at 0\n",
    "    1:\"joint Name\",\n",
    "    2:\"joint Type\",  #0=revolute (rotational), 1=prismatic (sliding), 4=fixed\n",
    "    3:\"state vectorIndex\",\n",
    "    4:\"velocity vectorIndex\",\n",
    "    5:\"flags\",  #nvm always 0\n",
    "    6:\"joint Damping\",\n",
    "    7:\"joint Friction\",  #coefficient\n",
    "    8:\"joint lowerLimit\",  #min angle\n",
    "    9:\"joint upperLimit\",  #max angle\n",
    "    10:\"joint maxForce\",  #max force allowed\n",
    "    11:\"joint maxVelocity\",  #max speed\n",
    "    12:\"link Name\",  #child link connected to this joint\n",
    "    13:\"joint Axis\",\n",
    "    14:\"parent FramePos\",  #position\n",
    "    15:\"parent FrameOrn\",  #orientation\n",
    "    16:\"parent Index\"  #−1 = base\n",
    "}\n",
    "for i in range(p.getNumJoints(bodyUniqueId=robo)):\n",
    "    joint_info = p.getJointInfo(bodyUniqueId=robo, jointIndex=i)\n",
    "    print(f\"--- JOINT {i} ---\")\n",
    "    print({dic_info[k]:joint_info[k] for k in dic_info.keys()})\n",
    "\n",
    "print(\"\")\n",
    "\n",
    "## links\n",
    "for i in range(p.getNumJoints(robo)):\n",
    "    link_name = p.getJointInfo(robo, i)[12].decode('utf-8')  #field 12=\"link Name\"\n",
    "    dyn = p.getDynamicsInfo(robo, i)\n",
    "    pos, orn, *_ = p.getLinkState(robo, i)\n",
    "    dic_info = {\"Mass\":dyn[0], \"Friction\":dyn[1], \"Position\":pos, \"Orientation\":orn}\n",
    "    print(f\"--- LINK {i}: {link_name} ---\")\n",
    "    print(dic_info)"
   ]
  },
  {
   "cell_type": "markdown",
   "id": "1913dbb6-e679-4e99-8093-fba3168abfdc",
   "metadata": {
    "id": "1913dbb6-e679-4e99-8093-fba3168abfdc"
   },
   "source": [
    "###### Manual Control"
   ]
  },
  {
   "cell_type": "code",
   "execution_count": 1,
   "id": "8e8519dd-b255-4184-94b8-d43cee50279d",
   "metadata": {},
   "outputs": [
    {
     "name": "stderr",
     "output_type": "stream",
     "text": [
      "pybullet build time: Sep  3 2024 12:57:17\n"
     ]
    }
   ],
   "source": [
    "import pybullet as p\n",
    "import time\n",
    "\n",
    "def render(sec=1):\n",
    "    for _ in range(int(240*sec)):\n",
    "        p.stepSimulation()\n",
    "        time.sleep(1/240)"
   ]
  },
  {
   "cell_type": "code",
   "execution_count": 2,
   "id": "5db67f24-7e91-48e8-b83e-ce987d00b019",
   "metadata": {
    "id": "5db67f24-7e91-48e8-b83e-ce987d00b019"
   },
   "outputs": [
    {
     "name": "stdout",
     "output_type": "stream",
     "text": [
      "### open hand ###\n",
      " \n",
      "### move arm ### \n",
      "target position: (1.5538098281852692, 1.6546389831648254, -0.1272327361515831, 0.21638428081650396, 0.1294864059221099, 1.4407037357704209, -0.7746769532050231, 0.03680942220717124, 0.036809233858618895)\n",
      " \n",
      "### close hand ###\n",
      " \n",
      "### hold the object ###\n",
      " \n",
      "### move towards the table ###\n",
      "target position: (3.1457590804196522, 0.8598379135326553, -0.04026429059750715, -0.1488725087558847, 0.03653631526343885, 1.052812554699334, 0.7828747001104271, 0.038234590928424274, 0.031239911682550647)\n",
      " \n",
      "### open hand and drop the obj ###\n"
     ]
    }
   ],
   "source": [
    "import pybullet_data\n",
    "\n",
    "## setup\n",
    "p.connect(p.GUI)\n",
    "p.resetSimulation()\n",
    "p.setGravity(gravX=0, gravY=0, gravZ=-9.8)\n",
    "p.setAdditionalSearchPath(path=pybullet_data.getDataPath())\n",
    "\n",
    "plane = p.loadURDF(\"plane.urdf\")\n",
    "cube = p.loadURDF(\"cube.urdf\", basePosition=[0,0,0.1], globalScaling=0.5, useFixedBase=True)\n",
    "robo = p.loadURDF(\"franka_panda/panda.urdf\", basePosition=[1,0,0.1], globalScaling=1.3, useFixedBase=True)\n",
    "obj = p.loadURDF(\"cube_small.urdf\", basePosition=[1,1,0.1], globalScaling=1.5)\n",
    "p.changeVisualShape(objectUniqueId=obj, linkIndex=-1, rgbaColor=[1,0,0,1])\n",
    "\n",
    "render(0.1)\n",
    "force = 100\n",
    "\n",
    "\n",
    "## open hand\n",
    "print(\"### open hand ###\")\n",
    "p.setJointMotorControl2(bodyUniqueId=robo, controlMode=p.POSITION_CONTROL,\n",
    "                        jointIndex=9, #finger_joint1\n",
    "                        targetPosition=0.04, #upper limit for finger_joint1\n",
    "                        force=force)\n",
    "p.setJointMotorControl2(bodyUniqueId=robo, controlMode=p.POSITION_CONTROL,\n",
    "                        jointIndex=10, #finger_joint2\n",
    "                        targetPosition=0.04, #upper limit for finger_joint2\n",
    "                        force=force)\n",
    "render(0.1)\n",
    "print(\" \")\n",
    "\n",
    "\n",
    "## move arm\n",
    "print(\"### move arm ### \")\n",
    "obj_position, _ = p.getBasePositionAndOrientation(obj)\n",
    "obj_position = list(obj_position)\n",
    "\n",
    "target_positions = p.calculateInverseKinematics(\n",
    "    bodyUniqueId=robo,\n",
    "    endEffectorLinkIndex=11, #grasp-target link\n",
    "    targetPosition=[obj_position[0], obj_position[1], obj_position[2]+0.25], #25cm above object\n",
    "    targetOrientation=p.getQuaternionFromEuler([0,-3.14,0]) #[roll,pitch,yaw]=[0,-π,0] -> hand pointing down\n",
    ")\n",
    "print(\"target position:\", target_positions)\n",
    "\n",
    "arm_joints = [0,1,2,3,4,5,6]\n",
    "p.setJointMotorControlArray(bodyUniqueId=robo, controlMode=p.POSITION_CONTROL,\n",
    "                            jointIndices=arm_joints,\n",
    "                            targetPositions=target_positions[:len(arm_joints)],\n",
    "                            forces=[force/3]*len(arm_joints))\n",
    "\n",
    "render(0.5)\n",
    "print(\" \")\n",
    "\n",
    "\n",
    "## close hand\n",
    "print(\"### close hand ###\")\n",
    "p.setJointMotorControl2(bodyUniqueId=robo, controlMode=p.POSITION_CONTROL,\n",
    "                        jointIndex=9, #finger_joint1\n",
    "                        targetPosition=0, #lower limit for finger_joint1\n",
    "                        force=force)\n",
    "p.setJointMotorControl2(bodyUniqueId=robo, controlMode=p.POSITION_CONTROL,\n",
    "                        jointIndex=10, #finger_joint2\n",
    "                        targetPosition=0, #lower limit for finger_joint2\n",
    "                        force=force)\n",
    "render(0.1)\n",
    "print(\" \")\n",
    "\n",
    "\n",
    "## hold the object\n",
    "print(\"### hold the object ###\")\n",
    "constraint = p.createConstraint(\n",
    "    parentBodyUniqueId=robo,\n",
    "    parentLinkIndex=11,\n",
    "    childBodyUniqueId=obj,\n",
    "    childLinkIndex=-1,\n",
    "    jointType=p.JOINT_FIXED,\n",
    "    jointAxis=[0,0,0],\n",
    "    parentFramePosition=[0,0,0],\n",
    "    childFramePosition=[0,0,0,1]\n",
    ")\n",
    "render(0.1)\n",
    "print(\" \")\n",
    "\n",
    "\n",
    "## move towards the table\n",
    "print(\"### move towards the table ###\")\n",
    "cube_position, _ = p.getBasePositionAndOrientation(cube)\n",
    "cube_position = list(cube_position)\n",
    "\n",
    "target_positions = p.calculateInverseKinematics(\n",
    "    bodyUniqueId=robo,\n",
    "    endEffectorLinkIndex=11, #grasp-target link\n",
    "    targetPosition=[cube_position[0], cube_position[1], cube_position[2]+0.80], #80cm above the table\n",
    "    targetOrientation=p.getQuaternionFromEuler([0,-3.14,0]) #[roll,pitch,yaw]=[0,-π,0] -> hand pointing down\n",
    ")\n",
    "print(\"target position:\", target_positions)\n",
    "\n",
    "arm_joints = [0,1,2,3,4,5,6]\n",
    "p.setJointMotorControlArray(bodyUniqueId=robo, controlMode=p.POSITION_CONTROL,\n",
    "                            jointIndices=arm_joints,\n",
    "                            targetPositions=target_positions[:len(arm_joints)],\n",
    "                            forces=[force*3]*len(arm_joints))\n",
    "render()\n",
    "print(\" \")\n",
    "\n",
    "\n",
    "## open hand and drop the obj\n",
    "print(\"### open hand and drop the obj ###\")\n",
    "p.setJointMotorControl2(bodyUniqueId=robo, controlMode=p.POSITION_CONTROL,\n",
    "                        jointIndex=9, #finger_joint1\n",
    "                        targetPosition=0.04, #upper limit for finger_joint1\n",
    "                        force=force)\n",
    "p.setJointMotorControl2(bodyUniqueId=robo, controlMode=p.POSITION_CONTROL,\n",
    "                        jointIndex=10, #finger_joint2\n",
    "                        targetPosition=0.04, #upper limit for finger_joint2\n",
    "                        force=force)\n",
    "p.removeConstraint(constraint)\n",
    "render()"
   ]
  }
 ],
 "metadata": {
  "colab": {
   "provenance": []
  },
  "kernelspec": {
   "display_name": "Python 3 (ipykernel)",
   "language": "python",
   "name": "python3"
  },
  "language_info": {
   "codemirror_mode": {
    "name": "ipython",
    "version": 3
   },
   "file_extension": ".py",
   "mimetype": "text/x-python",
   "name": "python",
   "nbconvert_exporter": "python",
   "pygments_lexer": "ipython3",
   "version": "3.13.0"
  }
 },
 "nbformat": 4,
 "nbformat_minor": 5
}
